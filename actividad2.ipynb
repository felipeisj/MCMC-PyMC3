{
 "cells": [
  {
   "cell_type": "markdown",
   "metadata": {},
   "source": [
    "## Instrucciones generales \n",
    "\n",
    "1. Forme un grupo de **máximo dos estudiantes**\n",
    "1. Versione su trabajo usando un **repositorio <font color=\"red\">privado</font> de github**. Agregue a sus compañeros y a su profesor (usuario github: phuijse) en la pestaña *Settings/Manage access*. No se aceptarán consultas si la tarea no está en github. No se evaluarán tareas que no estén en github.\n",
    "1. Se evaluará el **resultado, la profundidad de su análisis y la calidad/orden de sus códigos** en base al último commit antes de la fecha y hora de entrega\". Se bonificará a quienes muestren un método de trabajo incremental y ordenado según el histórico de *commits*\n",
    "1. Sean honestos, ríganse por el [código de ética de la ACM](https://www.acm.org/about-acm/code-of-ethics-in-spanish)"
   ]
  },
  {
   "cell_type": "markdown",
   "metadata": {},
   "source": [
    "# ¿Es posible explicar la cantidad de billonarios en base al desarrollo país?  <a class=\"tocSkip\"></a>\n",
    "\n",
    "\n",
    "\n",
    "\n",
    "\n"
   ]
  },
  {
   "cell_type": "markdown",
   "metadata": {},
   "source": [
    "En 2006 *Daniel Treisman* publicó un artículo titulado [*Russia Billionaries*](https://pubs.aeaweb.org/doi/pdfplus/10.1257/aer.p20161068) en el cual conectó la cantidad de billonarios de un país con ciertos atributos económicos de los mismos. \n",
    "\n",
    "Su conclusión principal fue que Rusia tiene una cantidad de billonarios mayor que la que predicen los indicadores económicos\n",
    "\n",
    "En esta tarea ustedes analizarán datos macroeconómicos para comprobar o refutar los hallazgos de *D. Treisman*"
   ]
  },
  {
   "cell_type": "markdown",
   "metadata": {},
   "source": [
    "## Datos\n",
    "\n",
    "Para esta tarea se les provee de un conjunto de datos `billonarios.csv` indexado por país con los siguientes atributos\n",
    "\n",
    "- `nbillonarios`: La cantidad de billonarios del pais\n",
    "- `logpibpc`: El logaritmo del Producto Interno Bruto (PIB) per capita del pais\n",
    "- `logpob`: El logaritmo de la población del pais\n",
    "- `gatt`: La cantidad de años que el pais está adherido al *General Agreement on Tariffs and Trade* (GATT)"
   ]
  },
  {
   "cell_type": "markdown",
   "metadata": {},
   "source": [
    "## Modelo \n",
    "\n",
    "El objetivo principal de esta tarea es entrenar un modelo de regresión que prediga la cantidad de billonarios en función de los demás atributos\n",
    "\n",
    "> El número de billonarios es una variable entera y no-negativa. \n",
    "\n",
    "Un modelo apropiado en este caso es la [regresión de Poisson](https://en.wikipedia.org/wiki/Poisson_distribution), donde definimos la probabilidad condicional para un pais $i$ como  \n",
    "\n",
    "$$\n",
    "p(y_i | x_i ) = \\frac{\\lambda_i^{y_i}}{y_i!} \\exp \\left ({-\\lambda_i} \\right)\n",
    "$$\n",
    "\n",
    "con intensidad\n",
    "\n",
    "$$\n",
    "\\lambda_i = \\exp \\left (\\theta_0 + \\sum_{j=1}^M \\theta_j x_{ij} \\right)\n",
    "$$\n",
    "\n",
    "donde \n",
    "\n",
    "- $\\theta$ es el vector de parámetros que deseamos ajustar \n",
    "- $y_i$ y $x_i$ son la cantidad de billonarios y el vector de atributos del país $i$, respectivamente\n"
   ]
  },
  {
   "cell_type": "markdown",
   "metadata": {},
   "source": [
    "## Objetivos\n",
    "\n",
    "- Implemente la regresion de Poisson usando PyMC\n",
    "    - Considere un prior normal para los parámetros $\\theta$\n",
    "    - Considere una verosimilitud poisson\n",
    "- Seleccione dos algoritmo de MCMC para entrenar este modelo. \n",
    "    - Muestre y analice las trazas de los parámetros.\n",
    "    - Muestre y analice el número de muestras efectivo, el estadístico de Gelman-Rubin y la función de autocorrelación\n",
    "    - En base a las trazas y las métricas calibre los hiperparámetros de su algoritmo para tener la mejro convergencia posible\n",
    "- Análisis\n",
    "    - Muestre el posterior de los parámetros obtenidos, su mediana y sus percentiles, ¿Cúales son significativamente distintos de cero?\n",
    "    - Prediga la cantidad de billonarios usando su modelo y la incertidumbre asociada (posterior predictivo). Muestre graficamente sus resultados\n",
    "    - ¿Cuáles son los 5 países con mayor error en la predicción? ¿Cuáles países tienen un exceso de billonarios? ¿Cúales paises tienen menos billonarios de lo esperado? ¿Qué puede decir sobre Rusia?"
   ]
  },
  {
   "cell_type": "code",
   "execution_count": null,
   "metadata": {},
   "outputs": [],
   "source": []
  }
 ],
 "metadata": {
  "kernelspec": {
   "display_name": "Python 3",
   "language": "python",
   "name": "python3"
  },
  "language_info": {
   "codemirror_mode": {
    "name": "ipython",
    "version": 3
   },
   "file_extension": ".py",
   "mimetype": "text/x-python",
   "name": "python",
   "nbconvert_exporter": "python",
   "pygments_lexer": "ipython3",
   "version": "3.6.9"
  },
  "toc": {
   "base_numbering": 1,
   "nav_menu": {},
   "number_sections": true,
   "sideBar": true,
   "skip_h1_title": false,
   "title_cell": "Table of Contents",
   "title_sidebar": "Contents",
   "toc_cell": false,
   "toc_position": {},
   "toc_section_display": true,
   "toc_window_display": false
  }
 },
 "nbformat": 4,
 "nbformat_minor": 4
}
