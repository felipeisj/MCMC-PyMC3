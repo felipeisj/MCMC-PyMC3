{
 "cells": [
  {
   "cell_type": "markdown",
   "metadata": {},
   "source": [
    "# Problema de la mochila\n",
    "\n",
    "\n",
    "Dado un conjunto de $m$ elementos cada uno descrito por su masa $w_j$ y su valor $v_j$ y una mochila cuyo límite de capacidad es $C$. Asumiendo que el volumen y la forma de los objetos no importan, encuentre el subconjunto de objetos de mayor valor que puede ser llevado en la mochila. Este es un problema de optimización combinatorial NP completo\n",
    "\n",
    "Podemos definir la variable indicadora\n",
    "\n",
    "$$\n",
    "x = (z_1, z_2, \\ldots, z_m)\n",
    "$$\n",
    "\n",
    "donde cada $z_i \\in \\{0, 1\\}$ es igual a 1 si el elemento $i$ está en la mochila y 0 si no lo está\n",
    "\n",
    "Se define entonces un espacio de posibilidades\n",
    "\n",
    "$$\n",
    "\\Omega = \\left \\{x \\in {0, 1}^m : \\sum_{j=1}^m w_j z_j \\leq C \\right \\}\n",
    "$$\n",
    "\n",
    "De donde queremos encontrar aquella que maximiza la utilidad\n",
    "\n",
    "$$\n",
    "U(x) = \\sum_{j=1}^m v_j z_j\n",
    "$$\n",
    "\n",
    "## Solución con Monte Carlo\n",
    "\n",
    "Para resolverlo con Monte Carlo podríamos\n",
    "\n",
    "- Dado $x_t$\n",
    "- Escoger $j \\in [1, ..., m]$ al azar de manera uniforme\n",
    "- Crear $y=(z_1, z_2, ..., 1-z_j,..., z_m)$, si es la mejor solución hasta ahora, guardarla\n",
    "- Si $y$ es factible entonces $x_{t+1} = y$ de lo contrario $x_{t+1} = x_t$\n",
    "\n",
    "Pero esto podría tardar muchisimo para $m$ grande\n",
    "\n",
    "## Actividad: Simulated Annealing\n",
    "\n",
    "Resuelva este problema usando el algoritmo de Simulated Annealing, el cual es una versión del algoritmo de Metropolis donde la distribución de interés se formula a partir de la función de utilidad como\n",
    "\n",
    "$$\n",
    "p(x) = \\frac{1}{Z} \\exp \\left(\\frac{U(x)}{T} \\right) \n",
    "$$\n",
    "\n",
    "donde $T$ es la temperatura y $Z = \\sum_{x\\in \\Omega}  \\exp \\left(\\frac{U(x)}{T} \\right)$ es la evidencia que no depende de $x$\n",
    "\n",
    "- Implemente la solución de Monte Carlo con el criterio de aceptación ingenuo \n",
    "- Implemente la solución de Simulated annealing modificando el criterio de aceptación ingenuo por de Metropolis\n",
    "- Para el conjunto de datos $X_3$\n",
    "    - Muestre las trazas y compare SA con el método de montecarlo clásico ¿Cuánto demora cada uno en llegar a la solución óptima?\n",
    "    - Explore la influencia del parámetro $T$. Muestre y compare resultados con un $T$ grande, adecuado y pequeño decididos por usted. Pruebe con un valor de $T$ adaptivo dado por\n",
    "    $$\n",
    "    T_i = \\frac{\\alpha}{\\log(i)}\n",
    "    $$\n",
    "    donde $\\alpha$ es una constante positiva seleccionada por usted (seleccione un conjunto de va\n",
    "    - Muestre la mejor solución obtenida usando Montecarlo y SA (Mejor valor de $T$)\n",
    "\n",
    "Nota: La solución óptima tiene un valor de 1458. Su resultado no necesariamente alcanzará esta solución pero acercarse."
   ]
  },
  {
   "cell_type": "code",
   "execution_count": 1,
   "metadata": {},
   "outputs": [],
   "source": [
    "X3 = {\"m\": 15, \"C\": 750,\n",
    "      \"v\": [135, 139, 149, 150, 156, 163, 173, 184, 192, 201, 210, 214, 221, 229, 240],\n",
    "      \"w\": [70, 73, 77, 149, 80, 82, 87, 90, 94, 98, 106, 110, 113, 115, 118]\n",
    "     }"
   ]
  },
  {
   "cell_type": "code",
   "execution_count": 2,
   "metadata": {},
   "outputs": [],
   "source": [
    "import matplotlib.pyplot as plt\n",
    "import numpy as np\n",
    "import scipy.stats\n",
    "from random import randint\n",
    "import math"
   ]
  },
  {
   "cell_type": "markdown",
   "metadata": {},
   "source": [
    "## **Solución Monte Carlo con criterio de aceptación ingenuo**"
   ]
  },
  {
   "cell_type": "code",
   "execution_count": 18,
   "metadata": {},
   "outputs": [],
   "source": [
    "# Creamos una funcion para que el algoritmo cada vez elija un vector diferente de 1's y 0's de manera aleatoria\n",
    "def vector_random(X):\n",
    "    x= np.zeros(len(X[\"v\"]))\n",
    "    for i in range(np.random.randint(3, 15)):\n",
    "        x[np.random.randint(len(X[\"v\"]))] = 1\n",
    "    return x\n",
    "\n",
    "# Creamos el algoritmo de Monte Carlo\n",
    "def monte_carlo(X):\n",
    "    pesos = 0\n",
    "    valor = 0\n",
    "    peso_maximo = 0\n",
    "    valor_maximo = 0\n",
    "    mejor_vector = np.zeros(len(X[\"v\"]))\n",
    "    resultados = []\n",
    "    y = vector_random(X)\n",
    "    for i in range(1000000):\n",
    "        k = randint(0,len(X3[\"v\"])-1)\n",
    "        y[k] = 1 - y[k]\n",
    "        pesos = 0\n",
    "        valor = 0\n",
    "        for j in range(len(X[\"v\"])):\n",
    "            valor += X[\"v\"][j]*y[j]\n",
    "            pesos += X[\"w\"][j]*y[j]\n",
    "        if(pesos < X3[\"C\"] and valor_maximo < valor):\n",
    "            peso_maximo = pesos\n",
    "            valor_maximo = valor\n",
    "            resultados.append(valor)\n",
    "        \n",
    "    print(\"peso máximo: \", peso_maximo)\n",
    "    print(\"valor máximo: \", valor_maximo)\n",
    "    plt.plot(resultados)\n",
    "    return;"
   ]
  },
  {
   "cell_type": "code",
   "execution_count": 19,
   "metadata": {},
   "outputs": [
    {
     "name": "stdout",
     "output_type": "stream",
     "text": [
      "peso máximo:  749.0\n",
      "valor máximo:  1503.0\n",
      "Wall time: 12.7 s\n"
     ]
    },
    {
     "data": {
      "image/png": "[encoded data removed]",
      "text/plain": [
       "<Figure size 432x288 with 1 Axes>"
      ]
     },
     "metadata": {
      "needs_background": "light"
     },
     "output_type": "display_data"
    }
   ],
   "source": [
    "%%time\n",
    "# Corremos y graficamos la traza de Monte Carlo\n",
    "monte_carlo(X3)"
   ]
  },
  {
   "cell_type": "markdown",
   "metadata": {},
   "source": [
    "## **Solución Simulated Annealing con modificación de criterio de aceptación ingenuo**"
   ]
  },
  {
   "cell_type": "code",
   "execution_count": 23,
   "metadata": {},
   "outputs": [],
   "source": [
    "# Se define T para su uso en SA\n",
    "def te(pos):\n",
    "    a = 100\n",
    "    return a/np.log(pos)\n",
    "    "
   ]
  },
  {
   "cell_type": "code",
   "execution_count": 24,
   "metadata": {},
   "outputs": [],
   "source": [
    "# Función P que calcula el criterio que se aplica en SA\n",
    "def p(valor, valor2, T) : \n",
    "    return (np.exp(valor/T)/np.exp(valor2/T))"
   ]
  },
  {
   "cell_type": "code",
   "execution_count": 25,
   "metadata": {},
   "outputs": [],
   "source": [
    "# Creamos el algoritmo de Simulated Annealing con el valor T adaptativo\n",
    "def simulated_annealing_Tadaptativo():\n",
    "    mix_time = 1000000\n",
    "    us = scipy.stats.uniform.rvs(size=mix_time)\n",
    "    valor = 0\n",
    "    pesos = 0\n",
    "    valor2 = 0\n",
    "    x = np.zeros(15)\n",
    "    y = np.zeros(15)\n",
    "    resultados2 = []\n",
    "    for n in range(1, mix_time):\n",
    "        valor = 0\n",
    "        pesos = 0\n",
    "        valor2 = 0\n",
    "        T = te(n)\n",
    "        \n",
    "        k = randint(0,len(X3[\"v\"])-1)\n",
    "        x[k] = 1 - x[k]\n",
    "        \n",
    "        for j in range(len(X3[\"v\"])):\n",
    "                valor += X3[\"v\"][j]*x[j]\n",
    "                valor2 += X3[\"v\"][j]*y[j]\n",
    "                pesos += X3[\"w\"][j]*x[j]\n",
    "        cociente = p(valor,valor2, T)\n",
    "        if (pesos<X3[\"C\"] and us[n] < min(1,cociente)):\n",
    "            resultados2.append(valor)\n",
    "            y = x.copy()\n",
    "        else:\n",
    "            x = vector_random(X3)\n",
    "    print(\"Valor máximo\", sum(y*X3[\"v\"]))\n",
    "    print(\"Peso máximo\", sum(y*X3[\"w\"]))\n",
    "    print(\"Vector \", y)\n",
    "    plt.plot(resultados2)\n",
    "    \n",
    "    return;"
   ]
  },
  {
   "cell_type": "code",
   "execution_count": 26,
   "metadata": {},
   "outputs": [
    {
     "name": "stderr",
     "output_type": "stream",
     "text": [
      "<ipython-input-23-dd5bcacd16d7>:4: RuntimeWarning: divide by zero encountered in double_scalars\n",
      "  return a/np.log(pos)\n"
     ]
    },
    {
     "name": "stdout",
     "output_type": "stream",
     "text": [
      "Valor máximo 1480.0\n",
      "Peso máximo 740.0\n",
      "Vector  [1. 0. 0. 0. 1. 0. 1. 1. 1. 1. 1. 0. 0. 1. 0.]\n",
      "Wall time: 51.1 s\n"
     ]
    },
    {
     "data": {
      "image/png": "[encoded data removed]",
      "text/plain": [
       "<Figure size 432x288 with 1 Axes>"
      ]
     },
     "metadata": {
      "needs_background": "light"
     },
     "output_type": "display_data"
    }
   ],
   "source": [
    "%%time\n",
    "simulated_annealing_Tadaptativo()\n"
   ]
  },
  {
   "cell_type": "markdown",
   "metadata": {},
   "source": [
    "## **Análisis**"
   ]
  },
  {
   "cell_type": "markdown",
   "metadata": {},
   "source": [
    "- Si contamos la cantidad de iteraciones equivalentes a 1 millon para cada algoritmo, podemos observar que monte carlo demora aproximadamente 41 segundos, mientras que el algoritmo de simulated annealing con T dinámico demora aproximadamente 1 min 22s, lo que significa que demora aproximadamente el doble de tiempo."
   ]
  },
  {
   "cell_type": "markdown",
   "metadata": {},
   "source": [
    "## **Comparamos influencias de T**"
   ]
  },
  {
   "cell_type": "code",
   "execution_count": 27,
   "metadata": {},
   "outputs": [],
   "source": [
    "# Creamos el algoritmo de Simulated Annealing para probar con distintos valores de T\n",
    "def simulated_annealing_Tfijo (T):\n",
    "    mix_time = 1000000\n",
    "    us = scipy.stats.uniform.rvs(size=mix_time)\n",
    "    valor = 0\n",
    "    pesos = 0\n",
    "    valor2 = 0\n",
    "    x = np.zeros(15)\n",
    "    y = np.zeros(15)\n",
    "    resultados2 = []\n",
    "    for n in range(1, mix_time):\n",
    "        valor = 0\n",
    "        pesos = 0\n",
    "        valor2 = 0\n",
    "        x = vector_random(X3)\n",
    "        for j in range(len(X3[\"v\"])):\n",
    "                valor += X3[\"v\"][j]*x[j]\n",
    "                valor2 += X3[\"v\"][j]*y[j]\n",
    "                pesos += X3[\"w\"][j]*x[j]\n",
    "        cociente = p(valor,valor2, T)\n",
    "        if (pesos<X3[\"C\"] and us[n] < min(1,cociente)):\n",
    "            resultados2.append(valor)\n",
    "            y = x.copy()\n",
    "        else:\n",
    "            x = vector_random(X3)\n",
    "    print(\"Valor máximo\", sum(y*X3[\"v\"]))\n",
    "    print(\"Peso máximo\", sum(y*X3[\"w\"]))\n",
    "    print(\"Vector \", y)\n",
    "    plt.plot(resultados2)\n",
    "    \n",
    "    return;"
   ]
  },
  {
   "cell_type": "code",
   "execution_count": 28,
   "metadata": {},
   "outputs": [
    {
     "name": "stderr",
     "output_type": "stream",
     "text": [
      "<ipython-input-24-22e362458a38>:3: RuntimeWarning: overflow encountered in exp\n",
      "  return (np.exp(valor/T)/np.exp(valor2/T))\n",
      "<ipython-input-24-22e362458a38>:3: RuntimeWarning: invalid value encountered in double_scalars\n",
      "  return (np.exp(valor/T)/np.exp(valor2/T))\n"
     ]
    },
    {
     "name": "stdout",
     "output_type": "stream",
     "text": [
      "Valor máximo 1020.0\n",
      "Peso máximo 589.0\n",
      "Vector  [1. 0. 1. 1. 1. 0. 0. 0. 0. 1. 0. 0. 0. 1. 0.]\n",
      "Wall time: 1min 5s\n"
     ]
    },
    {
     "data": {
      "image/png": "[encoded data removed]",
      "text/plain": [
       "<Figure size 432x288 with 1 Axes>"
      ]
     },
     "metadata": {
      "needs_background": "light"
     },
     "output_type": "display_data"
    }
   ],
   "source": [
    "%%time\n",
    "#Corremos y graficamos la traza de SA\n",
    "T_chico = 1\n",
    "T_medio = 10\n",
    "T_grande = 100\n",
    "simulated_annealing_Tfijo(T_chico)\n",
    "\n"
   ]
  },
  {
   "cell_type": "code",
   "execution_count": 29,
   "metadata": {},
   "outputs": [
    {
     "name": "stdout",
     "output_type": "stream",
     "text": [
      "Valor máximo 1502.0\n",
      "Peso máximo 749.0\n",
      "Vector  [1. 0. 0. 0. 0. 1. 1. 1. 1. 1. 0. 1. 0. 0. 1.]\n"
     ]
    },
    {
     "data": {
      "image/png": "[encoded data removed]",
      "text/plain": [
       "<Figure size 432x288 with 1 Axes>"
      ]
     },
     "metadata": {
      "needs_background": "light"
     },
     "output_type": "display_data"
    }
   ],
   "source": [
    "simulated_annealing_Tfijo(T_medio)"
   ]
  },
  {
   "cell_type": "code",
   "execution_count": 30,
   "metadata": {},
   "outputs": [
    {
     "name": "stdout",
     "output_type": "stream",
     "text": [
      "Valor máximo 1347.0\n",
      "Peso máximo 681.0\n",
      "Vector  [1. 0. 0. 0. 1. 1. 0. 0. 0. 0. 1. 1. 0. 1. 1.]\n"
     ]
    },
    {
     "data": {
      "image/png": "[encoded data removed]",
      "text/plain": [
       "<Figure size 432x288 with 1 Axes>"
      ]
     },
     "metadata": {
      "needs_background": "light"
     },
     "output_type": "display_data"
    }
   ],
   "source": [
    "simulated_annealing_Tfijo(T_grande)"
   ]
  },
  {
   "cell_type": "markdown",
   "metadata": {},
   "source": [
    "## **Análisis**"
   ]
  },
  {
   "cell_type": "markdown",
   "metadata": {},
   "source": [
    "Podemos observar que con el parametro T fijo en 1, nuestro algoritmo acepta practicamente cualquier valor como nuevo óptimo y no tiene practicamente utilidad. Con el valor de T = 10, nos damos cuenta que tenemos un criterio muchisimo mas razonable, de hecho, tiene resultados parecidos al T adaptativo con valor de \"a\" fijo en 100. Por último podemos ver que cuando t es muy grande, como por ejemplo 100 o mas, el algoritmo discrimina con criterios muy mal implementados, y queda con la misma utilidad que con T = 1. Con esto podemos concluir que el parametro T es de vital importancia para el algoritmo, siendo fundamental investigar que valor, o valores de T son los que más se adecúan al problema que se quiere resolver."
   ]
  },
  {
   "cell_type": "markdown",
   "metadata": {},
   "source": [
    "## **Mejores soluciones**"
   ]
  },
  {
   "cell_type": "markdown",
   "metadata": {},
   "source": [
    "Al comparar los dos algoritmos, nos damos cuenta que el algoritmo de Monte Carlo es evidentemente mas preciso, llegando siempre al valor máximo de 1503 y peso máximo de 749 cuando contamos con una cantidad de iteraciones que rondan el millón, lo cual demora aproximadamente 41 segundos. Por otro lado, el algoritmo de Simulated Annealing muestra resultados mas cambiantes en general, tomando como referencia el algoritmo con T adaptativo y un alfa fijo en 100, que es el que dio mejores resultados, pode mos ver que el valor óptimo reonda entre 1488 y 1501, haciendo un total de 10 pruebas con 1 millón de iteraciones cada una. Con esto, podemos concluir que si se conocen los datos necesarios para establecer todos los criterios de aceptación para el algoritmo, siempre sera mejor el algoritmo de monte carlo, sin embargo, en caso de no conocerse todos los datos necesarios, se puede aplicar simulated annealing como opción suficientemente aceptable, a costa de un costo computacional mayor y menos precisión."
   ]
  },
  {
   "cell_type": "code",
   "execution_count": null,
   "metadata": {},
   "outputs": [],
   "source": []
  }
 ],
 "metadata": {
  "kernelspec": {
   "display_name": "Python 3",
   "language": "python",
   "name": "python3"
  },
  "language_info": {
   "codemirror_mode": {
    "name": "ipython",
    "version": 3
   },
   "file_extension": ".py",
   "mimetype": "text/x-python",
   "name": "python",
   "nbconvert_exporter": "python",
   "pygments_lexer": "ipython3",
   "version": "3.8.8"
  },
  "toc": {
   "base_numbering": 1,
   "nav_menu": {},
   "number_sections": true,
   "sideBar": true,
   "skip_h1_title": false,
   "title_cell": "Table of Contents",
   "title_sidebar": "Contents",
   "toc_cell": false,
   "toc_position": {},
   "toc_section_display": true,
   "toc_window_display": false
  }
 },
 "nbformat": 4,
 "nbformat_minor": 4
}
