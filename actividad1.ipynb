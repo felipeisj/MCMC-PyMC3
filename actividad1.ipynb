{
 "cells": [
  {
   "cell_type": "markdown",
   "metadata": {},
   "source": [
    "# Problema de la mochila\n",
    "\n",
    "\n",
    "Dado un conjunto de $m$ elementos cada uno descrito por su masa $w_j$ y su valor $v_j$ y una mochila cuyo límite de capacidad es $C$. Asumiendo que el volumen y la forma de los objetos no importan, encuentre el subconjunto de objetos de mayor valor que puede ser llevado en la mochila. Este es un problema de optimización combinatorial NP completo\n",
    "\n",
    "Podemos definir la variable indicadora\n",
    "\n",
    "$$\n",
    "x = (z_1, z_2, \\ldots, z_m)\n",
    "$$\n",
    "\n",
    "donde cada $z_i \\in \\{0, 1\\}$ es igual a 1 si el elemento $i$ está en la mochila y 0 si no lo está\n",
    "\n",
    "Se define entonces un espacio de posibilidades\n",
    "\n",
    "$$\n",
    "\\Omega = \\left \\{x \\in {0, 1}^m : \\sum_{j=1}^m w_j z_j \\leq C \\right \\}\n",
    "$$\n",
    "\n",
    "De donde queremos encontrar aquella que maximiza la utilidad\n",
    "\n",
    "$$\n",
    "U(x) = \\sum_{j=1}^m v_j z_j\n",
    "$$\n",
    "\n",
    "## Solución con Monte Carlo\n",
    "\n",
    "Para resolverlo con Monte Carlo podríamos\n",
    "\n",
    "- Dado $x_t$\n",
    "- Escoger $j \\in [1, ..., m]$ al azar de manera uniforme\n",
    "- Crear $y=(z_1, z_2, ..., 1-z_j,..., z_m)$, si es la mejor solución hasta ahora, guardarla\n",
    "- Si $y$ es factible entonces $x_{t+1} = y$ de lo contrario $x_{t+1} = x_t$\n",
    "\n",
    "Pero esto podría tardar muchisimo para $m$ grande\n",
    "\n",
    "## Actividad: Simulated Annealing\n",
    "\n",
    "Resuelva este problema usando el algoritmo de Simulated Annealing, el cual es una versión del algoritmo de Metropolis donde la distribución de interés se formula a partir de la función de utilidad como\n",
    "\n",
    "$$\n",
    "p(x) = \\frac{1}{Z} \\exp \\left(\\frac{U(x)}{T} \\right) \n",
    "$$\n",
    "\n",
    "donde $T$ es la temperatura y $Z = \\sum_{x\\in \\Omega}  \\exp \\left(\\frac{U(x)}{T} \\right)$ es la evidencia que no depende de $x$\n",
    "\n",
    "- Implemente la solución de Monte Carlo con el criterio de aceptación ingenuo \n",
    "- Implemente la solución de Simulated annealing modificando el criterio de aceptación ingenuo por de Metropolis\n",
    "- Para el conjunto de datos $X_3$\n",
    "    - Muestre las trazas y compare SA con el método de montecarlo clásico ¿Cuánto demora cada uno en llegar a la solución óptima?\n",
    "    - Explore la influencia del parámetro $T$. Muestre y compare resultados con un $T$ grande, adecuado y pequeño decididos por usted. Pruebe con un valor de $T$ adaptivo dado por\n",
    "    $$\n",
    "    T_i = \\frac{\\alpha}{\\log(i)}\n",
    "    $$\n",
    "    donde $\\alpha$ es una constante positiva seleccionada por usted (seleccione un conjunto de va\n",
    "    - Muestre la mejor solución obtenida usando Montecarlo y SA (Mejor valor de $T$)\n",
    "\n",
    "Nota: La solución óptima tiene un valor de 1458. Su resultado no necesariamente alcanzará esta solución pero acercarse."
   ]
  },
  {
   "cell_type": "code",
   "execution_count": 1,
   "metadata": {},
   "outputs": [],
   "source": [
    "X3 = {\"m\": 15, \"C\": 750,\n",
    "      \"v\": [135, 139, 149, 150, 156, 163, 173, 184, 192, 201, 210, 214, 221, 229, 240],\n",
    "      \"w\": [70, 73, 77, 149, 80, 82, 87, 90, 94, 98, 106, 110, 113, 115, 118]\n",
    "     }"
   ]
  },
  {
   "cell_type": "code",
   "execution_count": 2,
   "metadata": {},
   "outputs": [],
   "source": [
    "import matplotlib.pyplot as plt\n",
    "import numpy as np\n",
    "import scipy.stats\n",
    "from random import randint\n",
    "import math"
   ]
  },
  {
   "cell_type": "markdown",
   "metadata": {},
   "source": [
    "**Solución monte carlo con criterio de aceptación ingenuo**"
   ]
  },
  {
   "cell_type": "code",
   "execution_count": 83,
   "metadata": {},
   "outputs": [],
   "source": [
    "def vector_random():\n",
    "    x= np.zeros(15)\n",
    "    for i in range(np.random.randint(15)):\n",
    "        x[np.random.randint(15)] = 1\n",
    "    return x\n",
    "\n",
    "def monte_carlo(X):\n",
    "    pesos = 0\n",
    "    valor = 0\n",
    "    peso_maximo = 0\n",
    "    valor_maximo = 0\n",
    "    mejor_vector = np.zeros(len(X[\"v\"]))\n",
    "    resultados = []\n",
    "    for i in range(10000):\n",
    "        y = vector_random()\n",
    "        pesos = 0\n",
    "        valor = 0\n",
    "        for j in range(len(X[\"v\"])):\n",
    "            valor += X[\"v\"][j]*y[j]\n",
    "            pesos += X[\"w\"][j]*y[j]\n",
    "        #print(valor)\n",
    "        if(pesos < X3[\"C\"] and valor_maximo < valor):\n",
    "            peso_maximo = pesos\n",
    "            valor_maximo = valor\n",
    "            resultados.append(valor)\n",
    "        \n",
    "    print(\"peso máximo: \", peso_maximo)\n",
    "    print(\"valor_máximo: \", valor_maximo)\n",
    "    plt.plot(resultados)\n",
    "    return;"
   ]
  },
  {
   "cell_type": "code",
   "execution_count": 84,
   "metadata": {},
   "outputs": [
    {
     "name": "stdout",
     "output_type": "stream",
     "text": [
      "peso máximo:  745.0\n",
      "valor_máximo:  1492.0\n"
     ]
    },
    {
     "data": {
      "image/png": "[encoded data removed]",
      "text/plain": [
       "<Figure size 432x288 with 1 Axes>"
      ]
     },
     "metadata": {
      "needs_background": "light"
     },
     "output_type": "display_data"
    }
   ],
   "source": [
    "monte_carlo(X3)"
   ]
  },
  {
   "cell_type": "code",
   "execution_count": 43,
   "metadata": {},
   "outputs": [],
   "source": [
    "T=100"
   ]
  },
  {
   "cell_type": "code",
   "execution_count": 65,
   "metadata": {},
   "outputs": [],
   "source": [
    "def p(valor, valor2) : \n",
    "    return (np.exp(valor/T)/np.exp(valor2/T))"
   ]
  },
  {
   "cell_type": "code",
   "execution_count": 88,
   "metadata": {},
   "outputs": [
    {
     "name": "stdout",
     "output_type": "stream",
     "text": [
      "CPU times: user 7.16 s, sys: 16.2 ms, total: 7.17 s\n",
      "Wall time: 7.14 s\n"
     ]
    }
   ],
   "source": [
    "%%time\n",
    "mix_time = 100000\n",
    "us = scipy.stats.uniform.rvs(size=mix_time)\n",
    "valor = 0\n",
    "pesos = 0\n",
    "valor2 = 0\n",
    "x = np.zeros(15)\n",
    "y = np.zeros(15)\n",
    "resultados2 = []\n",
    "for n in range(1, mix_time):\n",
    "    valor = 0\n",
    "    pesos = 0\n",
    "    valor2 = 0\n",
    "    #j = randint(0,len(X1[\"v\"])-1)\n",
    "    x = vector_random()\n",
    "    for j in range(len(X3[\"v\"])):\n",
    "            valor += X3[\"v\"][j]*x[j]\n",
    "            valor2 += X3[\"v\"][j]*y[j]\n",
    "            pesos += X3[\"w\"][j]*x[j]\n",
    "    cociente = p(valor,valor2)\n",
    "    #print(\" valor : \", valor)\n",
    "    #print(\" peso para valor:\", pesos)\n",
    "    #print(\" ------ \")\n",
    "    #print(\" valor2 : \", valor2)\n",
    "    #print(\"\\n\")\n",
    "    #print(cociente)\n",
    "    if (pesos<X3[\"C\"] and us[n] < min(1,cociente)):\n",
    "        resultados2.append(valor)\n",
    "        y = x.copy()\n",
    "    else:\n",
    "        x = vector_random()"
   ]
  },
  {
   "cell_type": "code",
   "execution_count": 89,
   "metadata": {},
   "outputs": [
    {
     "data": {
      "text/plain": [
       "[<matplotlib.lines.Line2D at 0x7fa952e915f8>]"
      ]
     },
     "execution_count": 89,
     "metadata": {},
     "output_type": "execute_result"
    },
    {
     "data": {
      "image/png": "[encoded data removed]",
      "text/plain": [
       "<Figure size 432x288 with 1 Axes>"
      ]
     },
     "metadata": {
      "needs_background": "light"
     },
     "output_type": "display_data"
    }
   ],
   "source": [
    "plt.plot(resultados2)"
   ]
  },
  {
   "cell_type": "code",
   "execution_count": null,
   "metadata": {},
   "outputs": [],
   "source": []
  }
 ],
 "metadata": {
  "kernelspec": {
   "display_name": "Python 3",
   "language": "python",
   "name": "python3"
  },
  "language_info": {
   "codemirror_mode": {
    "name": "ipython",
    "version": 3
   },
   "file_extension": ".py",
   "mimetype": "text/x-python",
   "name": "python",
   "nbconvert_exporter": "python",
   "pygments_lexer": "ipython3",
   "version": "3.6.9"
  },
  "toc": {
   "base_numbering": 1,
   "nav_menu": {},
   "number_sections": true,
   "sideBar": true,
   "skip_h1_title": false,
   "title_cell": "Table of Contents",
   "title_sidebar": "Contents",
   "toc_cell": false,
   "toc_position": {},
   "toc_section_display": true,
   "toc_window_display": false
  }
 },
 "nbformat": 4,
 "nbformat_minor": 4
}
